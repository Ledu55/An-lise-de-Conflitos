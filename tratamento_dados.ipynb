{
 "cells": [
  {
   "cell_type": "markdown",
   "id": "5a9ed1da-5d1d-424f-855b-6c39836a2637",
   "metadata": {},
   "source": [
    "# Importando Bibliotecas"
   ]
  },
  {
   "cell_type": "code",
   "execution_count": 1,
   "id": "ea35ba98-a604-4443-b320-61bcc49aca6d",
   "metadata": {},
   "outputs": [],
   "source": [
    "import pandas as pd # Manipulação de Dados\n",
    "from random import * # Geração de números aleatórios\n",
    "import names # Geração de Nomes Aleatórios"
   ]
  },
  {
   "cell_type": "markdown",
   "id": "b300888d-fbcc-4e13-a85a-57e22d7db741",
   "metadata": {},
   "source": [
    "# Carregando o Conjunto de Dados"
   ]
  },
  {
   "cell_type": "code",
   "execution_count": 2,
   "id": "dca2b890-8f73-45e4-8b37-efe1fa43f0bc",
   "metadata": {},
   "outputs": [],
   "source": [
    "# Carregando CSV\n",
    "df_conflitos = pd.read_csv('HR_Attrition.csv')"
   ]
  },
  {
   "cell_type": "markdown",
   "id": "aa2af3fa-8764-4bf5-a91e-f4d4541587db",
   "metadata": {},
   "source": [
    "# Calculando a Taxa de Satisfação"
   ]
  },
  {
   "cell_type": "code",
   "execution_count": 3,
   "id": "365e42c9-b010-4398-85e8-a9b4c9139a01",
   "metadata": {},
   "outputs": [],
   "source": [
    "# Média das outras avaliações \n",
    "df_conflitos['Satisfaction'] = (df_conflitos['EnvironmentSatisfaction'] + df_conflitos['JobInvolvement'] + df_conflitos['JobSatisfaction'] + \n",
    "                                df_conflitos['RelationshipSatisfaction']  + df_conflitos['WorkLifeBalance'])/5"
   ]
  },
  {
   "cell_type": "markdown",
   "id": "3f4ee45a-7f8e-4f30-bde6-b60932b35362",
   "metadata": {},
   "source": [
    "# Criando novo Conjunto de Dados \n",
    "---\n"
   ]
  },
  {
   "cell_type": "code",
   "execution_count": 4,
   "id": "4c00aa97-2ab1-4bcc-944d-d5c568dc9c21",
   "metadata": {},
   "outputs": [],
   "source": [
    "# Criando um novo conjunto de dados a partir da coluna do ID do funcionário\n",
    "df_fatores_conflitos = pd.DataFrame(df_conflitos['EmployeeNumber'])"
   ]
  },
  {
   "cell_type": "markdown",
   "id": "a1abbb1e-5126-4096-9016-8eaaa1b97214",
   "metadata": {},
   "source": [
    "# Criando Colunas com Fatores de Risco"
   ]
  },
  {
   "cell_type": "code",
   "execution_count": 5,
   "id": "f16ad8a5-09b7-4dd8-a0fd-61cc5b795b5d",
   "metadata": {},
   "outputs": [],
   "source": [
    "# Idade\n",
    "df_fatores_conflitos['Age'] = df_conflitos['Age'].apply(lambda x: 1 if x < 35 else 0)"
   ]
  },
  {
   "cell_type": "code",
   "execution_count": 6,
   "id": "e3fdf853-9874-470c-9ef7-d395eb0b6162",
   "metadata": {},
   "outputs": [],
   "source": [
    "# Estado Civil\n",
    "df_fatores_conflitos['Marital'] = df_conflitos['MaritalStatus'].apply(lambda x: 1 if x == 'Single' else 0)"
   ]
  },
  {
   "cell_type": "code",
   "execution_count": 7,
   "id": "2f9f8376-dc0f-45d9-b888-b62f7ac4a774",
   "metadata": {},
   "outputs": [],
   "source": [
    "# Anos de Trabalho\n",
    "df_fatores_conflitos['YearWork'] = df_conflitos['TotalWorkingYears'].apply(lambda x: 1 if x < 3 else 0)"
   ]
  },
  {
   "cell_type": "code",
   "execution_count": 8,
   "id": "a3b061b0-68c2-45a2-82fa-7f7133cf3a5c",
   "metadata": {},
   "outputs": [],
   "source": [
    "# Senioridade\n",
    "df_fatores_conflitos['JobLevel'] = df_conflitos['JobLevel'].apply(lambda x: 1 if x == 1 else 0)"
   ]
  },
  {
   "cell_type": "code",
   "execution_count": 9,
   "id": "cf4d505f-45a1-4ac0-8b7d-cb5ff0bef9e9",
   "metadata": {},
   "outputs": [],
   "source": [
    "# Área de Atuação\n",
    "df_fatores_conflitos['JobRole'] = df_conflitos['JobRole'].apply(lambda x: 1 if x == 'Sales Representative' or x == 'Laboratory Technician' or x == 'Human Resources' else 0)"
   ]
  },
  {
   "cell_type": "code",
   "execution_count": 10,
   "id": "4b38ae9c-acc3-4af5-b393-983a4311ea92",
   "metadata": {},
   "outputs": [],
   "source": [
    "# Hora-extra\n",
    "df_fatores_conflitos['OverTime'] = df_conflitos['OverTime'].apply(lambda x: 1 if x == 'Yes' else 0)"
   ]
  },
  {
   "cell_type": "code",
   "execution_count": 11,
   "id": "8188b544-a54d-4a22-8cc8-ef54c10748c3",
   "metadata": {},
   "outputs": [],
   "source": [
    "# Anos com Gerente Atual\n",
    "df_fatores_conflitos['YearWithManage'] = df_conflitos['YearsWithCurrManager'].apply(lambda x: 1 if x < 1 else 0)"
   ]
  },
  {
   "cell_type": "code",
   "execution_count": 12,
   "id": "2ada024e-7d52-4660-8e5f-3510879e3f0d",
   "metadata": {},
   "outputs": [],
   "source": [
    "# Taxa de Satisfação\n",
    "df_fatores_conflitos['Satisfaction'] = df_conflitos['Satisfaction'].apply(lambda x: 1 if x < 2 else 0)"
   ]
  },
  {
   "cell_type": "code",
   "execution_count": 13,
   "id": "b504ae3d-6681-4600-a732-5380e2aaa9ad",
   "metadata": {},
   "outputs": [],
   "source": [
    "# Salário\n",
    "df_fatores_conflitos['Salary'] = df_conflitos['MonthlyIncome'].apply(lambda x: 1 if x < 4000 else 0)"
   ]
  },
  {
   "cell_type": "code",
   "execution_count": 14,
   "id": "fafcebcf-9c73-425b-a906-4281f4afc6cd",
   "metadata": {},
   "outputs": [],
   "source": [
    "# Viagem a Trabalho\n",
    "df_fatores_conflitos['Travel'] = df_conflitos['BusinessTravel'].apply(lambda x: 0 if x != 'Non-Travel' else 1)"
   ]
  },
  {
   "cell_type": "markdown",
   "id": "2de66d5a-0d4b-44ce-843a-4722064fe8cc",
   "metadata": {},
   "source": [
    "# Calculando Risco de Conflito\n",
    "---\n",
    "Soma dos fatores de risco de conflito"
   ]
  },
  {
   "cell_type": "code",
   "execution_count": 15,
   "id": "35d1ab76-be15-4a93-86cc-33465128a34a",
   "metadata": {},
   "outputs": [],
   "source": [
    "df_fatores_conflitos['AttritionRisk'] = df_fatores_conflitos.loc[:, ['Age', 'Marital', 'YearWork', 'JobLevel', 'JobRole',\n",
    "       'OverTime', 'YearWithManage', 'Satisfaction', 'Salary', 'Travel']].sum(axis=1)"
   ]
  },
  {
   "cell_type": "markdown",
   "id": "fdb45980-a90e-402b-ab91-2254d64d628f",
   "metadata": {},
   "source": [
    "# Adicionando dados dos funcionários\n",
    "---\n",
    "\n",
    "Para poder criar um painel de acompanhamento dos funcionários, serão adicionados fotos e nomes aleatórios para cada ID de funcionário simulando o as informações privadas de uma empresa."
   ]
  },
  {
   "cell_type": "markdown",
   "id": "9b763a22-3056-417e-bbcb-0d3fbef99915",
   "metadata": {},
   "source": [
    "## Extraindo o gênero de cada ID de Funcionários"
   ]
  },
  {
   "cell_type": "code",
   "execution_count": 16,
   "id": "dc90e0b1-2782-4772-b615-444c422428c4",
   "metadata": {},
   "outputs": [],
   "source": [
    "df_fatores_conflitos['Gender'] = df_conflitos['Gender']"
   ]
  },
  {
   "cell_type": "markdown",
   "id": "75c01b4a-c611-4048-bacb-213e12b724e2",
   "metadata": {},
   "source": [
    "## Adicionando nomes aleatórios para cada Id de funcionário baseado no seu gênero"
   ]
  },
  {
   "cell_type": "code",
   "execution_count": 17,
   "id": "61389575-ff36-4f46-a678-41d0271b319b",
   "metadata": {},
   "outputs": [],
   "source": [
    "df_fatores_conflitos['Name'] = df_fatores_conflitos['Gender'].apply(lambda x: names.get_full_name(gender='male') if x == 'Male' else names.get_full_name(gender='female'))"
   ]
  },
  {
   "cell_type": "markdown",
   "id": "539957ad-1dd8-4d26-a651-7148c12bd64e",
   "metadata": {},
   "source": [
    "## Adicionando fotos aleatórias para cada Id de funcionário baseado no seu gênero\n",
    "---\n",
    "Fotos retiradas do servidor da datatraining, link do projeto de referência: \n",
    "https://my.datatraining.io/course?courseid=howtopowerbifiles"
   ]
  },
  {
   "cell_type": "code",
   "execution_count": 18,
   "id": "0be097e0-c05b-45ee-b83a-94f7c5321745",
   "metadata": {},
   "outputs": [],
   "source": [
    "male = [1,4,6,7,8,9] # Lista de id's das fotos masculinas\n",
    "female = [2,3,5,10,11] # Lista de id's das fotos femininas\n",
    "\n",
    "df_fatores_conflitos['Photo'] = df_fatores_conflitos['Gender'].apply(lambda x: 'https://datatraining.io/users/user{}_round.png'.format(choice(male)) if x == 'Male' else 'https://datatraining.io/users/user{}_round.png'.format(choice(female))) "
   ]
  },
  {
   "cell_type": "markdown",
   "id": "5a1092aa-50eb-4cb7-99b4-2a11c5af845c",
   "metadata": {},
   "source": [
    "## Reordenando colunas do conjutno de dados"
   ]
  },
  {
   "cell_type": "code",
   "execution_count": 19,
   "id": "243517b7-273e-4141-81b1-80178611e4b5",
   "metadata": {},
   "outputs": [],
   "source": [
    "df_fatores_conflitos = df_fatores_conflitos[['EmployeeNumber', 'Name', 'Age', 'Marital', 'YearWork', 'JobLevel', 'JobRole',\n",
    "       'OverTime', 'YearWithManage', 'Satisfaction', 'Salary', 'Travel',\n",
    "       'Gender', 'Photo', 'AttritionRisk']]"
   ]
  },
  {
   "cell_type": "markdown",
   "id": "e8a7289e-5018-44ba-b07f-18b2f58732f3",
   "metadata": {},
   "source": [
    "# Criando CSV do novo conjunto de Dados"
   ]
  },
  {
   "cell_type": "code",
   "execution_count": null,
   "id": "be510271-e483-4dc8-b740-995e9373d1f8",
   "metadata": {},
   "outputs": [],
   "source": [
    "df_fatores_conflitos.to_csv('HR_staff.csv')"
   ]
  }
 ],
 "metadata": {
  "kernelspec": {
   "display_name": "Python 3 (ipykernel)",
   "language": "python",
   "name": "python3"
  },
  "language_info": {
   "codemirror_mode": {
    "name": "ipython",
    "version": 3
   },
   "file_extension": ".py",
   "mimetype": "text/x-python",
   "name": "python",
   "nbconvert_exporter": "python",
   "pygments_lexer": "ipython3",
   "version": "3.9.12"
  }
 },
 "nbformat": 4,
 "nbformat_minor": 5
}
